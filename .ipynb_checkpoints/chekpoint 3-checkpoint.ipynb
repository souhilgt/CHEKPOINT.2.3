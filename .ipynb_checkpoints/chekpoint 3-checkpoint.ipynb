{
 "cells": [
  {
   "cell_type": "code",
   "execution_count": null,
   "id": "51f24c79",
   "metadata": {},
   "outputs": [],
   "source": [
    "import numpy as np\n",
    "import pandas as pd\n",
    "import seaborn as sns\n",
    "import datasist as ds\n",
    "from imblearn.over_sampling import SMOTE\n",
    "from sklearn.linear_model import LogisticRegression\n",
    "from sklearn.svm import SVC\n",
    "from sklearn.feature_selection import RFE\n",
    "from sklearn.tree import DecisionTreeClassifier\n",
    "from sklearn.ensemble import RandomForestClassifier\n",
    "from xgboost import XGBClassifier\n",
    "from sklearn.metrics import accuracy_score, confusion_matrix\n",
    "from sklearn.neighbors import KNeighborsClassifier\n",
    "from sklearn.model_selection import cross_validate\n",
    "from sklearn.model_selection import train_test_split\n",
    "from sklearn.linear_model import LinearRegression\n",
    "\n",
    "%matplotlib inline\n",
    "sns.set(rc={'figure.figsize': [10, 10]}, font_scale=1.2)\n"
   ]
  },
  {
   "cell_type": "code",
   "execution_count": null,
   "id": "4e116824",
   "metadata": {},
   "outputs": [],
   "source": [
    "df_train = pd.read_csv('C:\\\\Users\\\\Informatics\\\\Music\\\\chekpoint 3\\\\titanic-passengers.csv')\n"
   ]
  },
  {
   "cell_type": "code",
   "execution_count": null,
   "id": "a07a5575",
   "metadata": {},
   "outputs": [],
   "source": [
    "df_train.head(5)"
   ]
  },
  {
   "cell_type": "code",
   "execution_count": null,
   "id": "82f75de0",
   "metadata": {},
   "outputs": [],
   "source": [
    "df_train.describe()"
   ]
  },
  {
   "cell_type": "code",
   "execution_count": null,
   "id": "4cc42674",
   "metadata": {},
   "outputs": [],
   "source": [
    "df_train.isnull().sum()"
   ]
  },
  {
   "cell_type": "code",
   "execution_count": null,
   "id": "19ae49c6",
   "metadata": {},
   "outputs": [],
   "source": [
    "df_train.nunique()\n"
   ]
  },
  {
   "cell_type": "code",
   "execution_count": null,
   "id": "bb1512ae",
   "metadata": {},
   "outputs": [],
   "source": [
    "# outliers \n",
    "sns.boxplot(x='Age', data=df_train)\n",
    "sns.stripplot(x='Age', data=df_train, color=\"#474646\")"
   ]
  },
  {
   "cell_type": "code",
   "execution_count": null,
   "id": "1c6d3cc5",
   "metadata": {},
   "outputs": [],
   "source": [
    "sns.boxplot(y='Pclass', data=df_train)\n",
    "sns.stripplot(y='Pclass', data=df_train, color=\"#474646\")"
   ]
  },
  {
   "cell_type": "code",
   "execution_count": null,
   "id": "ea2e9188",
   "metadata": {},
   "outputs": [],
   "source": [
    "#correlation\n",
    "mycols = ['Survived', 'Pclass', 'Sex', 'Age', 'SibSp',\n",
    "       'Parch', 'Fare', 'Cabin', 'Embarked']\n",
    "my_df = df_train[mycols]"
   ]
  },
  {
   "cell_type": "code",
   "execution_count": null,
   "id": "ce80439b",
   "metadata": {},
   "outputs": [],
   "source": [
    "sns.heatmap(my_df.corr(),annot=True)"
   ]
  },
  {
   "cell_type": "code",
   "execution_count": null,
   "id": "e7a820f8",
   "metadata": {},
   "outputs": [],
   "source": [
    "sns.countplot(x='Survived', hue='Sex' ,data=df_train)"
   ]
  },
  {
   "cell_type": "code",
   "execution_count": null,
   "id": "88b4b167",
   "metadata": {},
   "outputs": [],
   "source": [
    "sns.countplot(df_train['Sex'])"
   ]
  },
  {
   "cell_type": "code",
   "execution_count": null,
   "id": "5c937e46",
   "metadata": {},
   "outputs": [],
   "source": [
    "sns.countplot(x='Pclass', hue='Sex' ,data=df_train)"
   ]
  },
  {
   "cell_type": "code",
   "execution_count": null,
   "id": "8e15519c",
   "metadata": {},
   "outputs": [],
   "source": [
    "sns.countplot(x='Pclass', hue='Survived' ,data=df_train)"
   ]
  },
  {
   "cell_type": "code",
   "execution_count": null,
   "id": "ccb52604",
   "metadata": {},
   "outputs": [],
   "source": [
    "sns.distplot(df['Age'] ,bins=5,norm_hist=True)"
   ]
  },
  {
   "cell_type": "code",
   "execution_count": null,
   "id": "d2dc171c",
   "metadata": {},
   "outputs": [],
   "source": [
    "def extract_title(name):\n",
    "    title= name.split(',')[1].split('.')[0]\n",
    "    \n",
    "    if (title.strip() == \"Mr\") :\n",
    "        return 0 \n",
    "    if (title.strip() == \"Mrs\") : \n",
    "        return 1 \n",
    "    if (title.strip() == \"Miss\") :\n",
    "        return 2\n",
    "    else :\n",
    "        return 3\n",
    "    df_train['Rank'] =  df_train['Name'].apply(extract_title)\n",
    "    "
   ]
  },
  {
   "cell_type": "code",
   "execution_count": null,
   "id": "74931373",
   "metadata": {},
   "outputs": [],
   "source": [
    "df_train['Rank'] = pd.to_numeric(df_train['Rank'])"
   ]
  },
  {
   "cell_type": "code",
   "execution_count": null,
   "id": "f7897e16",
   "metadata": {},
   "outputs": [],
   "source": [
    "sns.countplot(x='Rank',hue='Survived' ,data=df_train)"
   ]
  },
  {
   "cell_type": "code",
   "execution_count": null,
   "id": "d189913b",
   "metadata": {},
   "outputs": [],
   "source": [
    "sns.countplot(x='Rank',hue='Pclass' ,data=df_train)"
   ]
  },
  {
   "cell_type": "code",
   "execution_count": null,
   "id": "dad497ef",
   "metadata": {},
   "outputs": [],
   "source": [
    "sns.countplot(x='Embarked', hue='Survived' ,data=df_train)"
   ]
  },
  {
   "cell_type": "code",
   "execution_count": null,
   "id": "d891bea1",
   "metadata": {},
   "outputs": [],
   "source": []
  }
 ],
 "metadata": {
  "kernelspec": {
   "display_name": "Python 3 (ipykernel)",
   "language": "python",
   "name": "python3"
  },
  "language_info": {
   "codemirror_mode": {
    "name": "ipython",
    "version": 3
   },
   "file_extension": ".py",
   "mimetype": "text/x-python",
   "name": "python",
   "nbconvert_exporter": "python",
   "pygments_lexer": "ipython3",
   "version": "3.11.4"
  }
 },
 "nbformat": 4,
 "nbformat_minor": 5
}
